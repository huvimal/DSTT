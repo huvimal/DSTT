{
  "nbformat": 4,
  "nbformat_minor": 0,
  "metadata": {
    "colab": {
      "provenance": [],
      "authorship_tag": "ABX9TyO+LbMRn5td+qofDOridlbw",
      "include_colab_link": true
    },
    "kernelspec": {
      "name": "python3",
      "display_name": "Python 3"
    },
    "language_info": {
      "name": "python"
    }
  },
  "cells": [
    {
      "cell_type": "markdown",
      "metadata": {
        "id": "view-in-github",
        "colab_type": "text"
      },
      "source": [
        "<a href=\"https://colab.research.google.com/github/huvimal/DSTT/blob/main/ThiDSTT.ipynb\" target=\"_parent\"><img src=\"https://colab.research.google.com/assets/colab-badge.svg\" alt=\"Open In Colab\"/></a>"
      ]
    },
    {
      "cell_type": "code",
      "execution_count": 3,
      "metadata": {
        "colab": {
          "base_uri": "https://localhost:8080/"
        },
        "id": "48QOJiUyjzaM",
        "outputId": "e2a20519-a185-48b6-f99f-cc7560789f90"
      },
      "outputs": [
        {
          "output_type": "stream",
          "name": "stdout",
          "text": [
            "A + B = [2 3 1 6]\n",
            "2A + 3B = [ 3 11  2 14]\n",
            "A · B = -5\n",
            "Góc giữa A và B = 99.594 độ\n",
            "CCT = \n",
            "[[21 -7 22]\n",
            " [-7 14 -4]\n",
            " [22 -4 29]]\n",
            "\n",
            "======================================================================\n",
            "\n"
          ]
        }
      ],
      "source": [
        "import numpy as np\n",
        "\n",
        "#Câu 1: Phép toán cơ bản trên vector và ma trận\n",
        "# Cho 2 vector A, B và ma trận C\n",
        "A = np.array([3, -2, 1, 4])\n",
        "B = np.array([-1, 5, 0, 2])\n",
        "C = np.array([[2, 1, 4],\n",
        "              [-1, 3, -2],\n",
        "              [0, 2, 5]])\n",
        "\n",
        "# a) Tính tổng A + B và tích số 2A + 3B.\n",
        "sum_AB = A + B\n",
        "print(f\"A + B = {sum_AB}\")\n",
        "\n",
        "scaled_sum_AB = 2 * A + 3 * B\n",
        "print(f\"2A + 3B = {scaled_sum_AB}\")\n",
        "\n",
        "# b) Tính tích vô hướng A · B và góc giữa hai vector (tính bằng độ, làm tròn đến 3 chữ số thập phân).\n",
        "dot_product_AB = np.dot(A, B)\n",
        "print(f\"A · B = {dot_product_AB}\")\n",
        "\n",
        "norm_A = np.linalg.norm(A)\n",
        "norm_B = np.linalg.norm(B)\n",
        "\n",
        "# Tránh chia cho 0 nếu một trong các vector là vector 0\n",
        "if norm_A == 0 or norm_B == 0:\n",
        "    angle_rad = 0\n",
        "else:\n",
        "    cos_theta = dot_product_AB / (norm_A * norm_B)\n",
        "    # Đảm bảo cos_theta nằm trong khoảng [-1, 1] để tránh lỗi arccos do lỗi số học\n",
        "    cos_theta = np.clip(cos_theta, -1.0, 1.0)\n",
        "    angle_rad = np.arccos(cos_theta)\n",
        "\n",
        "angle_deg = np.degrees(angle_rad)\n",
        "print(f\"Góc giữa A và B = {angle_deg:.3f} độ\")\n",
        "\n",
        "# c) Tính tích ma trận CCT (ma trận C nhân với chuyển vị của nó).\n",
        "C_transpose = C.T\n",
        "C_CT = np.dot(C, C_transpose)\n",
        "print(f\"CCT = \\n{C_CT}\")\n",
        "\n",
        "print(\"\\n\" + \"=\"*70 + \"\\n\")\n",
        "\n"
      ]
    },
    {
      "cell_type": "code",
      "source": [
        "#Câu 2: Nhân ma trận, định thức và hạng ma trận\n",
        "# Cho ma trận M và N\n",
        "M = np.array([[2, -1, 3, 0],\n",
        "              [1, 4, -2, 5],\n",
        "              [0, 2, 6, -3],\n",
        "              [-1, 0, 1, 4]])\n",
        "\n",
        "N = np.array([[1, 3, -2, 0],\n",
        "              [4, -1, 5, 2],\n",
        "              [0, 2, 3, -1],\n",
        "              [-3, 1, 0, 4]])\n",
        "\n",
        "# a) Tính tích ma trận M × N.\n",
        "product_MN = np.dot(M, N)\n",
        "print(f\"M × N = \\n{product_MN}\")\n",
        "\n",
        "# b) Tính định thức của ma trận M. Nếu không khả thi, giải thích lý do.\n",
        "# Ma trận M là ma trận vuông (4x4), do đó có thể tính định thức.\n",
        "determinant_M = np.linalg.det(M)\n",
        "print(f\"Định thức của M = {determinant_M:.3f}\")\n",
        "\n",
        "# c) Tính hạng của ma trận N.\n",
        "print(\"\\nc) Hạng của ma trận N:\")\n",
        "rank_N = np.linalg.matrix_rank(N)\n",
        "print(f\"Hạng của ma trận N = {rank_N}\")\n",
        "\n",
        "print(\"\\n\" + \"=\"*70 + \"\\n\")\n",
        "\n"
      ],
      "metadata": {
        "colab": {
          "base_uri": "https://localhost:8080/"
        },
        "id": "YVYbDq2rmMmX",
        "outputId": "8dafd720-fdfe-47b8-a9be-9e0d7a442587"
      },
      "execution_count": 4,
      "outputs": [
        {
          "output_type": "stream",
          "name": "stdout",
          "text": [
            "M × N = \n",
            "[[ -2  13   0  -5]\n",
            " [  2   0  12  30]\n",
            " [ 17   7  28 -14]\n",
            " [-13   3   5  15]]\n",
            "Định thức của M = 409.000\n",
            "\n",
            "c) Hạng của ma trận N:\n",
            "Hạng của ma trận N = 4\n",
            "\n",
            "======================================================================\n",
            "\n"
          ]
        }
      ]
    },
    {
      "cell_type": "code",
      "source": [
        "#Câu 3: Nghịch đảo ma trận và giải hệ phương trình\n",
        "\n",
        "# Cho ma trận P\n",
        "P = np.array([[3, -1, 0, 2],\n",
        "              [0, 1, 5, -1],\n",
        "              [1, 4, -2, 0],\n",
        "              [2, 0, 1, 3]])\n",
        "\n",
        "# Ma trận hệ số A_sys và vector hằng số b_sys của hệ phương trình\n",
        "A_sys = np.array([[3, -1, 0, 2],\n",
        "                  [0, 1, 5, -1],\n",
        "                  [0, 0, 4, -2],  # Giả định: 4z - 2w = 8\n",
        "                  [2, 0, 1, 3]])\n",
        "b_sys = np.array([6, 3, 8, 7])\n",
        "\n",
        "\n",
        "# a) Tìm ma trận nghịch đảo của P. Nếu không khả nghịch, giải thích lý do.\n",
        "# Kiểm tra định thức của P để xem P có khả nghịch không\n",
        "det_P = np.linalg.det(P)\n",
        "print(f\"Định thức của P = {det_P:.3f}\")\n",
        "\n",
        "if det_P == 0:\n",
        "    print(\"Ma trận P không khả nghịch vì định thức của nó bằng 0.\")\n",
        "else:\n",
        "    P_inv = np.linalg.inv(P)\n",
        "    print(f\"Ma trận nghịch đảo của P = \\n{P_inv}\")\n",
        "\n",
        "# b) Giải hệ phương trình trên bằng cách sử dụng nghịch đảo ma trận.\n",
        "# Trước tiên, cần đảm bảo A_sys là ma trận vuông và khả nghịch\n",
        "det_A_sys = np.linalg.det(A_sys)\n",
        "print(f\"Định thức của ma trận hệ số A_sys = {det_A_sys:.3f}\")\n",
        "\n",
        "if det_A_sys == 0:\n",
        "    print(\"Ma trận hệ số A_sys không khả nghịch, không thể giải hệ phương trình bằng phương pháp nghịch đảo ma trận.\")\n",
        "else:\n",
        "    A_sys_inv = np.linalg.inv(A_sys)\n",
        "    solution_x = np.dot(A_sys_inv, b_sys)\n",
        "    print(f\"Nghiệm của hệ phương trình (x, y, z, w) = {solution_x}\")\n",
        "\n",
        "# c) Kiểm tra nghiệm bằng cách nhân ma trận P với vector nghiệm và so sánh với vector hằng số.\n",
        "if det_A_sys != 0:\n",
        "    check_result = np.dot(A_sys, solution_x)\n",
        "    print(f\"A_sys * solution_x = {check_result}\")\n",
        "    print(f\"Vector hằng số b_sys = {b_sys}\")\n",
        "    if np.allclose(check_result, b_sys):\n",
        "        print(\"Nghiệm được kiểm tra là chính xác.\")\n",
        "    else:\n",
        "        print(\"Có sự khác biệt nhỏ giữa nghiệm đã kiểm tra và vector hằng số.\")\n",
        "else:\n",
        "    print(\"Không thể kiểm tra nghiệm vì hệ phương trình không được giải bằng phương pháp nghịch đảo ma trận.\")\n",
        "\n",
        "print(\"\\n\" + \"=\"*70 + \"\\n\")\n",
        "\n"
      ],
      "metadata": {
        "colab": {
          "base_uri": "https://localhost:8080/"
        },
        "id": "j-nxLiadmQ5E",
        "outputId": "36a7ed5c-ef91-4fdc-cee6-fbe5a7212b57"
      },
      "execution_count": 5,
      "outputs": [
        {
          "output_type": "stream",
          "name": "stdout",
          "text": [
            "Định thức của P = -140.000\n",
            "Ma trận nghịch đảo của P = \n",
            "[[ 0.5         0.1         0.1        -0.3       ]\n",
            " [-0.14285714  0.05714286  0.2         0.11428571]\n",
            " [-0.03571429  0.16428571 -0.05        0.07857143]\n",
            " [-0.32142857 -0.12142857 -0.05        0.50714286]]\n",
            "Định thức của ma trận hệ số A_sys = 14.000\n",
            "Nghiệm của hệ phương trình (x, y, z, w) = [ -6.         -14.28571429   4.42857143   4.85714286]\n",
            "A_sys * solution_x = [6. 3. 8. 7.]\n",
            "Vector hằng số b_sys = [6 3 8 7]\n",
            "Nghiệm được kiểm tra là chính xác.\n",
            "\n",
            "======================================================================\n",
            "\n"
          ]
        }
      ]
    },
    {
      "cell_type": "code",
      "source": [
        "#Câu 4: Giá trị riêng, vector riêng và chuẩn hóa\n",
        "# Cho ma trận Q\n",
        "Q = np.array([[0, 3, 5],\n",
        "              [-2, 1, -1],\n",
        "              [2, 0, 4]])\n",
        "\n",
        "# a) Tìm các giá trị riêng của Q.\n",
        "eigenvalues, eigenvectors = np.linalg.eig(Q)\n",
        "print(f\"Các giá trị riêng của Q = {eigenvalues}\")\n",
        "\n",
        "# b) Tìm các vector riêng tương ứng với các giá trị riêng.\n",
        "# Các cột của eigenvectors là các vector riêng\n",
        "print(f\"Các vector riêng của Q (mỗi cột là một vector riêng): \\n{eigenvectors}\")\n",
        "\n",
        "# c) Chuẩn hóa tất cả các vector riêng (độ dài bằng 1). (5 điểm)\n",
        "normalized_eigenvectors = eigenvectors / np.linalg.norm(eigenvectors, axis=0)\n",
        "print(f\"Các vector riêng đã chuẩn hóa = \\n{normalized_eigenvectors}\")\n",
        "\n",
        "print(\"\\n\" + \"=\"*70 + \"\\n\")\n",
        "\n"
      ],
      "metadata": {
        "colab": {
          "base_uri": "https://localhost:8080/"
        },
        "id": "Li4qrQ5BmUWl",
        "outputId": "41008ced-ea7e-4553-93be-6253a794f077"
      },
      "execution_count": 6,
      "outputs": [
        {
          "output_type": "stream",
          "name": "stdout",
          "text": [
            "Các giá trị riêng của Q = [ 5.2862792+0.j         -0.1431396+1.22182766j -0.1431396-1.22182766j]\n",
            "Các vector riêng của Q (mỗi cột là một vector riêng): \n",
            "[[-0.49353583+0.j          0.69251054+0.j          0.69251054-0.j        ]\n",
            " [ 0.40931932+0.j          0.47953462+0.43320361j  0.47953462-0.43320361j]\n",
            " [-0.76738523+0.j         -0.30754591-0.09069646j -0.30754591+0.09069646j]]\n",
            "Các vector riêng đã chuẩn hóa = \n",
            "[[-0.49353583+0.j          0.69251054+0.j          0.69251054-0.j        ]\n",
            " [ 0.40931932+0.j          0.47953462+0.43320361j  0.47953462-0.43320361j]\n",
            " [-0.76738523+0.j         -0.30754591-0.09069646j -0.30754591+0.09069646j]]\n",
            "\n",
            "======================================================================\n",
            "\n"
          ]
        }
      ]
    },
    {
      "cell_type": "code",
      "source": [
        "# Câu 5: Ứng dụng thực tế - Hệ phương trình và phân tích\n",
        "\n",
        "# Ma trận hệ số R và vector hằng số b\n",
        "R = np.array([[4, 1, 3],\n",
        "              [-1, 2, -2],\n",
        "              [0, 2, 5]])\n",
        "b_app = np.array([12, 5, 9])\n",
        "\n",
        "# a) Giải hệ phương trình Rx = b bằng phương pháp np.linalg.solve().\n",
        "solution_x_app = np.linalg.solve(R, b_app)\n",
        "print(f\"Nghiệm của hệ phương trình (x, y, z) = {solution_x_app}\")\n",
        "\n",
        "# b) Xác định xem ma trận R có khả nghịch không. Nếu có, tính ma trận nghịch đảo và dùng nó để giải lại hệ. So sánh hai nghiệm.\n",
        "det_R = np.linalg.det(R)\n",
        "print(f\"Định thức của R = {det_R:.3f}\")\n",
        "\n",
        "if det_R == 0:\n",
        "    print(\"Ma trận R không khả nghịch vì định thức của nó bằng 0, không thể dùng nghịch đảo để giải hệ.\")\n",
        "else:\n",
        "    print(\"Ma trận R khả nghịch.\")\n",
        "    R_inv = np.linalg.inv(R)\n",
        "    print(f\"Ma trận nghịch đảo của R = \\n{R_inv}\")\n",
        "\n",
        "    solution_x_inv = np.dot(R_inv, b_app)\n",
        "    print(f\"Nghiệm của hệ phương trình dùng nghịch đảo ma trận = {solution_x_inv}\")\n",
        "\n",
        "    # So sánh hai nghiệm\n",
        "    if np.allclose(solution_x_app, solution_x_inv):\n",
        "        print(\"Hai nghiệm thu được từ hai phương pháp là như nhau (đến một sai số nhỏ).\")\n",
        "    else:\n",
        "        print(\"Hai nghiệm thu được từ hai phương pháp có sự khác biệt.\")\n",
        "\n",
        "# c) Tính chuẩn Frobenius của ma trận R.\n",
        "frobenius_norm_R = np.linalg.norm(R, 'fro')\n",
        "print(f\"Chuẩn Frobenius của ma trận R = {frobenius_norm_R:.3f}\")"
      ],
      "metadata": {
        "colab": {
          "base_uri": "https://localhost:8080/"
        },
        "id": "Q7rdpTfXmXc1",
        "outputId": "b8e3ad7a-083b-4888-eea2-95b2b4bf2876"
      },
      "execution_count": 7,
      "outputs": [
        {
          "output_type": "stream",
          "name": "stdout",
          "text": [
            "Nghiệm của hệ phương trình (x, y, z) = [1.83636364 3.72727273 0.30909091]\n",
            "Định thức của R = 55.000\n",
            "Ma trận R khả nghịch.\n",
            "Ma trận nghịch đảo của R = \n",
            "[[ 0.25454545  0.01818182 -0.14545455]\n",
            " [ 0.09090909  0.36363636  0.09090909]\n",
            " [-0.03636364 -0.14545455  0.16363636]]\n",
            "Nghiệm của hệ phương trình dùng nghịch đảo ma trận = [1.83636364 3.72727273 0.30909091]\n",
            "Hai nghiệm thu được từ hai phương pháp là như nhau (đến một sai số nhỏ).\n",
            "Chuẩn Frobenius của ma trận R = 8.000\n"
          ]
        }
      ]
    }
  ]
}